{
 "cells": [
  {
   "cell_type": "code",
   "execution_count": 1,
   "metadata": {},
   "outputs": [
    {
     "name": "stdout",
     "output_type": "stream",
     "text": [
      "Collecting stable_baselines3\n",
      "  Downloading stable_baselines3-2.3.2-py3-none-any.whl.metadata (5.1 kB)\n",
      "Collecting gymnasium<0.30,>=0.28.1 (from stable_baselines3)\n",
      "  Downloading gymnasium-0.29.1-py3-none-any.whl.metadata (10 kB)\n",
      "Requirement already satisfied: numpy>=1.20 in /opt/conda/lib/python3.11/site-packages (from stable_baselines3) (1.26.4)\n",
      "Requirement already satisfied: torch>=1.13 in /opt/conda/lib/python3.11/site-packages (from stable_baselines3) (2.4.0+cpu)\n",
      "Requirement already satisfied: cloudpickle in /opt/conda/lib/python3.11/site-packages (from stable_baselines3) (3.0.0)\n",
      "Requirement already satisfied: pandas in /opt/conda/lib/python3.11/site-packages (from stable_baselines3) (2.2.2)\n",
      "Requirement already satisfied: matplotlib in /opt/conda/lib/python3.11/site-packages (from stable_baselines3) (3.9.1)\n",
      "Requirement already satisfied: typing-extensions>=4.3.0 in /opt/conda/lib/python3.11/site-packages (from gymnasium<0.30,>=0.28.1->stable_baselines3) (4.12.2)\n",
      "Collecting farama-notifications>=0.0.1 (from gymnasium<0.30,>=0.28.1->stable_baselines3)\n",
      "  Downloading Farama_Notifications-0.0.4-py3-none-any.whl.metadata (558 bytes)\n",
      "Requirement already satisfied: filelock in /opt/conda/lib/python3.11/site-packages (from torch>=1.13->stable_baselines3) (3.13.1)\n",
      "Requirement already satisfied: sympy in /opt/conda/lib/python3.11/site-packages (from torch>=1.13->stable_baselines3) (1.13.0)\n",
      "Requirement already satisfied: networkx in /opt/conda/lib/python3.11/site-packages (from torch>=1.13->stable_baselines3) (3.3)\n",
      "Requirement already satisfied: jinja2 in /opt/conda/lib/python3.11/site-packages (from torch>=1.13->stable_baselines3) (3.1.4)\n",
      "Requirement already satisfied: fsspec in /opt/conda/lib/python3.11/site-packages (from torch>=1.13->stable_baselines3) (2024.6.1)\n",
      "Requirement already satisfied: contourpy>=1.0.1 in /opt/conda/lib/python3.11/site-packages (from matplotlib->stable_baselines3) (1.2.1)\n",
      "Requirement already satisfied: cycler>=0.10 in /opt/conda/lib/python3.11/site-packages (from matplotlib->stable_baselines3) (0.12.1)\n",
      "Requirement already satisfied: fonttools>=4.22.0 in /opt/conda/lib/python3.11/site-packages (from matplotlib->stable_baselines3) (4.53.1)\n",
      "Requirement already satisfied: kiwisolver>=1.3.1 in /opt/conda/lib/python3.11/site-packages (from matplotlib->stable_baselines3) (1.4.5)\n",
      "Requirement already satisfied: packaging>=20.0 in /opt/conda/lib/python3.11/site-packages (from matplotlib->stable_baselines3) (24.1)\n",
      "Requirement already satisfied: pillow>=8 in /opt/conda/lib/python3.11/site-packages (from matplotlib->stable_baselines3) (10.4.0)\n",
      "Requirement already satisfied: pyparsing>=2.3.1 in /opt/conda/lib/python3.11/site-packages (from matplotlib->stable_baselines3) (3.1.2)\n",
      "Requirement already satisfied: python-dateutil>=2.7 in /opt/conda/lib/python3.11/site-packages (from matplotlib->stable_baselines3) (2.9.0)\n",
      "Requirement already satisfied: pytz>=2020.1 in /opt/conda/lib/python3.11/site-packages (from pandas->stable_baselines3) (2024.1)\n",
      "Requirement already satisfied: tzdata>=2022.7 in /opt/conda/lib/python3.11/site-packages (from pandas->stable_baselines3) (2024.1)\n",
      "Requirement already satisfied: six>=1.5 in /opt/conda/lib/python3.11/site-packages (from python-dateutil>=2.7->matplotlib->stable_baselines3) (1.16.0)\n",
      "Requirement already satisfied: MarkupSafe>=2.0 in /opt/conda/lib/python3.11/site-packages (from jinja2->torch>=1.13->stable_baselines3) (2.1.5)\n",
      "Requirement already satisfied: mpmath<1.4,>=1.1.0 in /opt/conda/lib/python3.11/site-packages (from sympy->torch>=1.13->stable_baselines3) (1.3.0)\n",
      "Downloading stable_baselines3-2.3.2-py3-none-any.whl (182 kB)\n",
      "Downloading gymnasium-0.29.1-py3-none-any.whl (953 kB)\n",
      "\u001b[2K   \u001b[90m━━━━━━━━━━━━━━━━━━━━━━━━━━━━━━━━━━━━━━━━\u001b[0m \u001b[32m953.9/953.9 kB\u001b[0m \u001b[31m6.8 MB/s\u001b[0m eta \u001b[36m0:00:00\u001b[0m\n",
      "\u001b[?25hDownloading Farama_Notifications-0.0.4-py3-none-any.whl (2.5 kB)\n",
      "Installing collected packages: farama-notifications, gymnasium, stable_baselines3\n",
      "Successfully installed farama-notifications-0.0.4 gymnasium-0.29.1 stable_baselines3-2.3.2\n",
      "Note: you may need to restart the kernel to use updated packages.\n"
     ]
    }
   ],
   "source": [
    "pip install stable_baselines3"
   ]
  },
  {
   "cell_type": "code",
   "execution_count": 2,
   "metadata": {},
   "outputs": [],
   "source": [
    "import os\n",
    "from typing import List\n",
    "import matplotlib.pyplot as plt\n",
    "import numpy as np\n",
    "from stable_baselines3 import SAC\n",
    "\n",
    "from src.game.ml.ml_environment import create_environment\n",
    "from stable_baselines3.common.evaluation import evaluate_policy"
   ]
  },
  {
   "cell_type": "code",
   "execution_count": 6,
   "metadata": {},
   "outputs": [],
   "source": [
    "\n",
    "model_name = \"ppo_trained_model\"\n",
    "\n",
    "path = %pwd\n",
    "output_path = os.path.join(path, \"output\")\n",
    "model_path = os.path.join(output_path, model_name)\n",
    "\n",
    "initial_bankroll = 68000\n",
    "num_episodes = 1000\n",
    "\n",
    "model = SAC.load(model_path)\n",
    "\n",
    "total_rewards = []\n",
    "bet_sizes = [[] for _ in range(3)]  # List for each round\n",
    "final_bankrolls = []\n",
    "\n",
    "env = create_environment(initial_bankroll)\n",
    "\n",
    "for _ in range(num_episodes):\n",
    "    obs = env.reset()\n",
    "    if isinstance(obs, tuple):  # New Gymnasium API\n",
    "        obs = obs[0]\n",
    "    done = False\n",
    "    episode_reward = 0\n",
    "    round_count = 0\n",
    "\n",
    "    while not done:\n",
    "        action, _ = model.predict(obs, deterministic=True)\n",
    "        step_result = env.step(action)\n",
    "\n",
    "        if len(step_result) == 5:  # New Gymnasium API\n",
    "            obs, reward, terminated, truncated, info = step_result\n",
    "            done = terminated or truncated\n",
    "        else:  # Old Gym API\n",
    "            obs, reward, done, info = step_result\n",
    "\n",
    "        episode_reward += reward\n",
    "\n",
    "        if round_count < 3:\n",
    "            # Assuming action[0] is the bet percentage\n",
    "            bet_sizes[round_count].append(action[0])\n",
    "        round_count += 1\n",
    "\n",
    "    total_rewards.append(episode_reward)\n",
    "    final_bankrolls.append(obs[0])  # Assuming obs[0] is the bankroll"
   ]
  },
  {
   "cell_type": "code",
   "execution_count": 7,
   "metadata": {},
   "outputs": [
    {
     "name": "stdout",
     "output_type": "stream",
     "text": [
      "Average reward over 1000 episodes: 1.1311862468719482\n",
      "Standard deviation of rewards: 1.1550878286361694\n",
      "Best reward: 2.470588207244873\n",
      "Worst reward: -1.4117647409439087\n",
      "Average final bankroll: 0.2916666865348816\n"
     ]
    }
   ],
   "source": [
    "print(f\"Average reward over {num_episodes} episodes: {np.mean(total_rewards)}\")\n",
    "print(f\"Standard deviation of rewards: {np.std(total_rewards)}\")\n",
    "print(f\"Best reward: {np.max(total_rewards)}\")\n",
    "print(f\"Worst reward: {np.min(total_rewards)}\")\n",
    "print(f\"Average final bankroll: {np.mean(final_bankrolls)}\")\n",
    "\n",
    "# Plot average bet sizes per round\n",
    "plt.figure(figsize=(10, 6))\n",
    "rounds = ['Round 1', 'Round 2', 'Round 3']\n",
    "avg_bets = [np.mean(bets) for bets in bet_sizes]\n",
    "plt.bar(rounds, avg_bets)\n",
    "plt.title('Average Bet Size per Round')\n",
    "plt.ylabel('Bet Size (%)')\n",
    "plt.savefig(os.path.join(output_path, 'average_bets.png'))\n",
    "plt.close()\n",
    "\n",
    "# Plot distribution of final bankrolls\n",
    "plt.figure(figsize=(10, 6))\n",
    "plt.hist(final_bankrolls, bins=50)\n",
    "plt.title('Distribution of Final Bankrolls')\n",
    "plt.xlabel('Bankroll')\n",
    "plt.ylabel('Frequency')\n",
    "plt.savefig(os.path.join(output_path, 'final_bankrolls.png'))\n",
    "plt.close()"
   ]
  }
 ],
 "metadata": {
  "kernelspec": {
   "display_name": "Python 3 (ipykernel)",
   "language": "python",
   "name": "python3"
  },
  "language_info": {
   "codemirror_mode": {
    "name": "ipython",
    "version": 3
   },
   "file_extension": ".py",
   "mimetype": "text/x-python",
   "name": "python",
   "nbconvert_exporter": "python",
   "pygments_lexer": "ipython3",
   "version": "3.11.9"
  }
 },
 "nbformat": 4,
 "nbformat_minor": 2
}
